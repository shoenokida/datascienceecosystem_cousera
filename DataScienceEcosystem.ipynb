{
 "cells": [
  {
   "cell_type": "markdown",
   "id": "471485ee-d486-4ba0-abab-d4efddbce656",
   "metadata": {},
   "source": [
    "# Data Science Tools and Ecosystem"
   ]
  },
  {
   "cell_type": "markdown",
   "id": "f3072042-47c0-4b75-b582-945d6ee5c1c4",
   "metadata": {},
   "source": [
    "### In this notebook, Data Science Tools and Ecosystem are summarized."
   ]
  },
  {
   "cell_type": "markdown",
   "id": "35c2b2d0-ef82-4b1d-8106-d1a15e95d961",
   "metadata": {},
   "source": [
    "### ___Objectives:___\n",
    "List popular languages for Data Science\n",
    "- Python\n",
    "- R\n",
    "- SQL"
   ]
  },
  {
   "cell_type": "markdown",
   "id": "7176e30b-7f1b-4320-8669-39e4b65c4eb4",
   "metadata": {},
   "source": [
    "### Some of the popular languages that Data Scientists use are:\n",
    "1. English\n",
    "2. Spanish\n",
    "3. "
   ]
  },
  {
   "cell_type": "markdown",
   "id": "3e375f91-7922-4bd4-83ed-876524cc1df0",
   "metadata": {
    "tags": []
   },
   "source": [
    "### Some of the commonly used libraries used by Data Scientists include:\n",
    "1. Numpy\n",
    "2. Pandas\n",
    "3. Scikit-learn"
   ]
  },
  {
   "cell_type": "markdown",
   "id": "1e1459dd-5e55-4174-bad6-118ab348f614",
   "metadata": {},
   "source": [
    "### \n",
    "|Data Science Tools|\n",
    "| ------ | \n",
    "| Github | \n",
    "|JupyterLab | \n",
    "| Gitlab | \n",
    "\n"
   ]
  },
  {
   "cell_type": "markdown",
   "id": "14831c95-7983-4121-aee9-e74a3b19b7a3",
   "metadata": {},
   "source": [
    "### Below are a few examples of evaluating arithmetic expressions in Python"
   ]
  },
  {
   "cell_type": "code",
   "execution_count": 2,
   "id": "203d4684-ba4a-460d-bf84-6504c4027f61",
   "metadata": {
    "tags": []
   },
   "outputs": [
    {
     "data": {
      "text/plain": [
       "17"
      ]
     },
     "execution_count": 2,
     "metadata": {},
     "output_type": "execute_result"
    }
   ],
   "source": [
    "(3*4)+5\n",
    "# This a simple arithmetic expression to mutiply then add integers."
   ]
  },
  {
   "cell_type": "code",
   "execution_count": 3,
   "id": "551f8b0e-0856-46f5-a9db-327eecf2dc97",
   "metadata": {
    "tags": []
   },
   "outputs": [
    {
     "data": {
      "text/plain": [
       "3.3333333333333335"
      ]
     },
     "execution_count": 3,
     "metadata": {},
     "output_type": "execute_result"
    }
   ],
   "source": [
    "200/60\n",
    "# This will convert 200 minutes to hours by diving by 60"
   ]
  },
  {
   "cell_type": "markdown",
   "id": "a5fbaeca-57fe-4606-8dde-00e9096bf956",
   "metadata": {},
   "source": [
    "## Author\n",
    "Sho"
   ]
  },
  {
   "cell_type": "code",
   "execution_count": null,
   "id": "de198e51-3d8e-48b7-9aa9-797bf10e1f3b",
   "metadata": {},
   "outputs": [],
   "source": []
  }
 ],
 "metadata": {
  "kernelspec": {
   "display_name": "Python",
   "language": "python",
   "name": "conda-env-python-py"
  },
  "language_info": {
   "codemirror_mode": {
    "name": "ipython",
    "version": 3
   },
   "file_extension": ".py",
   "mimetype": "text/x-python",
   "name": "python",
   "nbconvert_exporter": "python",
   "pygments_lexer": "ipython3",
   "version": "3.7.12"
  }
 },
 "nbformat": 4,
 "nbformat_minor": 5
}
